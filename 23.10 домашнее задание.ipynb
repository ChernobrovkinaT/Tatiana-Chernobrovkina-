{
  "nbformat": 4,
  "nbformat_minor": 0,
  "metadata": {
    "colab": {
      "name": "23.10.2019.ipynb",
      "provenance": [],
      "include_colab_link": true
    },
    "kernelspec": {
      "name": "python3",
      "display_name": "Python 3"
    }
  },
  "cells": [
    {
      "cell_type": "markdown",
      "metadata": {
        "id": "view-in-github",
        "colab_type": "text"
      },
      "source": [
        "<a href=\"https://colab.research.google.com/github/ChernobrovkinaT/Tatiana-Chernobrovkina-/blob/master/23_10_2019.ipynb\" target=\"_parent\"><img src=\"https://colab.research.google.com/assets/colab-badge.svg\" alt=\"Open In Colab\"/></a>"
      ]
    },
    {
      "cell_type": "code",
      "metadata": {
        "id": "jJOphNHzQQY6",
        "colab_type": "code",
        "colab": {
          "base_uri": "https://localhost:8080/",
          "height": 156
        },
        "outputId": "7dcd53e2-05b0-43c4-9b48-e5cd6040d48b"
      },
      "source": [
        "#задание 1\n",
        "a=23\n",
        "b=34.02\n",
        "c=\"python is cool\"\n",
        "d=\"you are cool,too\"\n",
        "\n",
        "uno_concat=c+d\n",
        "print(uno_concat)\n",
        "uno_concat1=a+b\n",
        "print(uno_concat1)\n",
        "\n",
        "dos=a*b\n",
        "print(dos)\n",
        "dos1=a*c\n",
        "print(dos1)\n",
        "dos2=a*d\n",
        "print(dos2)\n",
        "\n",
        "tres=a-b\n",
        "print(tres)\n",
        "tres1=b-a\n",
        "print(tres1)"
      ],
      "execution_count": 22,
      "outputs": [
        {
          "output_type": "stream",
          "text": [
            "python is coolyou are cool,too\n",
            "57.02\n",
            "782.46\n",
            "python is coolpython is coolpython is coolpython is coolpython is coolpython is coolpython is coolpython is coolpython is coolpython is coolpython is coolpython is coolpython is coolpython is coolpython is coolpython is coolpython is coolpython is coolpython is coolpython is coolpython is coolpython is coolpython is cool\n",
            "you are cool,tooyou are cool,tooyou are cool,tooyou are cool,tooyou are cool,tooyou are cool,tooyou are cool,tooyou are cool,tooyou are cool,tooyou are cool,tooyou are cool,tooyou are cool,tooyou are cool,tooyou are cool,tooyou are cool,tooyou are cool,tooyou are cool,tooyou are cool,tooyou are cool,tooyou are cool,tooyou are cool,tooyou are cool,tooyou are cool,too\n",
            "-11.020000000000003\n",
            "11.020000000000003\n"
          ],
          "name": "stdout"
        }
      ]
    },
    {
      "cell_type": "code",
      "metadata": {
        "id": "HHr7v4KwWUEh",
        "colab_type": "code",
        "colab": {
          "base_uri": "https://localhost:8080/",
          "height": 51
        },
        "outputId": "af707b33-2e0f-469e-851f-d6af76e106c6"
      },
      "source": [
        "#задание2\n",
        "dzstr=\"hola\",\"q tal\",\"tia\"\n",
        "print(dzstr)\n",
        "dzstr1=\"hola\"+\"q tal\"+\"tia\"\n",
        "print(dzstr1)"
      ],
      "execution_count": 31,
      "outputs": [
        {
          "output_type": "stream",
          "text": [
            "('hola', 'q tal', 'tia')\n",
            "holaq taltia\n"
          ],
          "name": "stdout"
        }
      ]
    },
    {
      "cell_type": "code",
      "metadata": {
        "id": "gLSvxJz0aFU2",
        "colab_type": "code",
        "colab": {
          "base_uri": "https://localhost:8080/",
          "height": 34
        },
        "outputId": "81b9497e-9906-4403-f458-d5dbc8d1bf15"
      },
      "source": [
        "#задание3\n",
        "t=\"апельсин\"\n",
        "print(t[-3]+t[1]+t[0]+t[-1]+t[-2]+t[2]+t[-5]+t[-4])\n"
      ],
      "execution_count": 33,
      "outputs": [
        {
          "output_type": "stream",
          "text": [
            "спаниель\n"
          ],
          "name": "stdout"
        }
      ]
    },
    {
      "cell_type": "code",
      "metadata": {
        "id": "ktJdv7OUcAXe",
        "colab_type": "code",
        "colab": {
          "base_uri": "https://localhost:8080/",
          "height": 34
        },
        "outputId": "3f317775-3ace-4a63-e11a-fdca0877e1a9"
      },
      "source": [
        "text=\"WOW,NOEL SEES LEON\"\n",
        "text1=text.lower()\n",
        "print(text1[::-1])"
      ],
      "execution_count": 37,
      "outputs": [
        {
          "output_type": "stream",
          "text": [
            "noel sees leon,wow\n"
          ],
          "name": "stdout"
        }
      ]
    }
  ]
}
