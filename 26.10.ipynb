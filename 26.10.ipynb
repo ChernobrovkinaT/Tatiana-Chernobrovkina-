{
  "nbformat": 4,
  "nbformat_minor": 0,
  "metadata": {
    "colab": {
      "name": "Untitled1.ipynb",
      "provenance": [],
      "include_colab_link": true
    },
    "kernelspec": {
      "name": "python3",
      "display_name": "Python 3"
    }
  },
  "cells": [
    {
      "cell_type": "markdown",
      "metadata": {
        "id": "view-in-github",
        "colab_type": "text"
      },
      "source": [
        "<a href=\"https://colab.research.google.com/github/ChernobrovkinaT/Tatiana-Chernobrovkina-/blob/master/26.10.ipynb\" target=\"_parent\"><img src=\"https://colab.research.google.com/assets/colab-badge.svg\" alt=\"Open In Colab\"/></a>"
      ]
    },
    {
      "cell_type": "code",
      "metadata": {
        "id": "SkN6MgVNkn-a",
        "colab_type": "code",
        "colab": {
          "base_uri": "https://localhost:8080/",
          "height": 51
        },
        "outputId": "5ab9be09-fbb9-4eb4-e436-4121f64871f2"
      },
      "source": [
        "# определитель усталости\n",
        "\n",
        "a = float(input('по шкале от 0 до 10, напишите, насколько Вы устали: '))\n",
        "if a <= 0.0:\n",
        "    print('Не хитрите, скорее за работу!')\n",
        "elif 0.0 <= a <= 0.7:\n",
        "    print('Кажется, Вы совсем не устали')\n",
        "elif 0.7 <= a <= 6.8:\n",
        "    print('Вы средненько устали')\n",
        "elif 6.8 <= a <= 10.0:\n",
        "    print('Скорее идите отдыхать!')\n",
        "elif 10.0 <= a <= 15.0:\n",
        "    print('Так нельзя!')\n",
        "elif 15.0 <= a <= 100.0:\n",
        "    print('Шутите?!Ну Вы машина!! но машинки тоже заряжаются, и Вам пора:)')\n",
        "else:\n",
        "    print('Скорее идите отдыхать!')"
      ],
      "execution_count": 7,
      "outputs": [
        {
          "output_type": "stream",
          "text": [
            "по шкале от 0 до 10, напишите, насколько Вы устали: 99\n",
            "Шутите?!Ну Вы машина!! но машинки тоже заряжаются, и Вам пора:)\n"
          ],
          "name": "stdout"
        }
      ]
    },
    {
      "cell_type": "code",
      "metadata": {
        "id": "N8ZMMTvbpAG3",
        "colab_type": "code",
        "colab": {
          "base_uri": "https://localhost:8080/",
          "height": 221
        },
        "outputId": "14126861-ec74-4ec7-b29b-e9feac92629f"
      },
      "source": [
        "i = 100 \n",
        "while i >= 0: \n",
        "    print(i) \n",
        "    i = i -10 \n",
        "print (\"finish\")"
      ],
      "execution_count": 17,
      "outputs": [
        {
          "output_type": "stream",
          "text": [
            "100\n",
            "90\n",
            "80\n",
            "70\n",
            "60\n",
            "50\n",
            "40\n",
            "30\n",
            "20\n",
            "10\n",
            "0\n",
            "finish\n"
          ],
          "name": "stdout"
        }
      ]
    },
    {
      "cell_type": "code",
      "metadata": {
        "id": "Y_0UHwBHracq",
        "colab_type": "code",
        "colab": {
          "base_uri": "https://localhost:8080/",
          "height": 272
        },
        "outputId": "4d1c246c-5a57-4914-afc7-091870f017cf"
      },
      "source": [
        "import random\n",
        "#программа \"миллион причин остаться дома\"\n",
        "excuses = [\" я устал\",\" я улетел к океану\",\" на улице холодно\",\" на улице жарко\",  \n",
        "           \" я в отпуске\",\" у меня день рождения\",\" сегодня выходной\",\" мне надоело\",\n",
        "           \" я работаю из дома\",\" могу\",\" плохо себя чувствую\",\" не хочу\", \" у меня лапки\",\" я в отпуске!\",\n",
        "           \" на улице ураган\"]\n",
        "for i in excuses:\n",
        "    phrase = \"Сегодня я не иду на работу, потому что\" + i \n",
        "    reason = random.choice(i)\n",
        "    print(phrase,reason)"
      ],
      "execution_count": 57,
      "outputs": [
        {
          "output_type": "stream",
          "text": [
            "Сегодня я не иду на работу, потому что я устал у\n",
            "Сегодня я не иду на работу, потому что я улетел к океану  \n",
            "Сегодня я не иду на работу, потому что на улице холодно х\n",
            "Сегодня я не иду на работу, потому что на улице жарко а\n",
            "Сегодня я не иду на работу, потому что я в отпуске п\n",
            "Сегодня я не иду на работу, потому что у меня день рождения н\n",
            "Сегодня я не иду на работу, потому что сегодня выходной  \n",
            "Сегодня я не иду на работу, потому что мне надоело  \n",
            "Сегодня я не иду на работу, потому что я работаю из дома б\n",
            "Сегодня я не иду на работу, потому что могу г\n",
            "Сегодня я не иду на работу, потому что плохо себя чувствую п\n",
            "Сегодня я не иду на работу, потому что не хочу  \n",
            "Сегодня я не иду на работу, потому что у меня лапки  \n",
            "Сегодня я не иду на работу, потому что я в отпуске! о\n",
            "Сегодня я не иду на работу, потому что на улице ураган а\n"
          ],
          "name": "stdout"
        }
      ]
    },
    {
      "cell_type": "code",
      "metadata": {
        "id": "qxHTlUdrv6s9",
        "colab_type": "code",
        "colab": {}
      },
      "source": [
        ""
      ],
      "execution_count": 0,
      "outputs": []
    }
  ]
}